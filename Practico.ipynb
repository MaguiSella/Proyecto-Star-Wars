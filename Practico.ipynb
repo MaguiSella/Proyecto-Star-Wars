{
 "cells": [
  {
   "cell_type": "markdown",
   "id": "a49e9927-f016-4660-89df-26c5800aea8b",
   "metadata": {},
   "source": [
    "# Práctico"
   ]
  },
  {
   "cell_type": "markdown",
   "id": "5fe2ae9e-6076-4a12-931c-5349ee7eb2d3",
   "metadata": {
    "jp-MarkdownHeadingCollapsed": true,
    "tags": []
   },
   "source": [
    "El trabajo práctico de la materia consiste en el análisis de un conjunto de datos extraído de Twitter. La idea es emplear los conceptos de grafos vistos en clase sobre un caso real de actualidad.\n",
    "\n",
    "## Dataset\n",
    "\n",
    "El dataset consiste en un conjunto de hilos de tweets, con un total de ~150000 tweets, extraídos entre Enero y Marzo de 2021. La temática de los mismos está referida a la vacunación contra el covid-19 en Argentina.\n",
    "\n",
    "Pueden descargar el dataset del siguiente [link](https://drive.google.com/file/d/1X_qKsE8muAnom2tDX4sLlmBAO0Ikfe_G/view?usp=sharing).\n",
    "\n",
    "### Campos\n",
    "\n",
    "- **created_at:** Fecha del tweet\n",
    "- **id_str:** ID del tweet\n",
    "- **full_text:** Contenido del tweet\n",
    "- **in_reply_to_status_id:** ID del tweet inmediatamente anterior en el hilo\n",
    "- **in_reply_to_user_id:** Autor del tweet inmediatamente anterior en el hilo\n",
    "- **user.id:** Autor del tweet\n",
    "- **user_retweeters:** Lista de ID de usuarios que retweetearon el tweet\n",
    "- **sentiment:** Etiquetado manual que indica el sentimiento o intención del tweet con respecto al tweet anterior en el hilo"
   ]
  },
  {
   "cell_type": "markdown",
   "id": "8eed8c8b-8c40-4d18-b4ad-c853e1c3b7d1",
   "metadata": {},
   "source": [
    "## Configuración inicial"
   ]
  },
  {
   "cell_type": "code",
   "execution_count": 48,
   "id": "bb51e30f-c2ff-49dc-bce2-cd6db7db7141",
   "metadata": {},
   "outputs": [],
   "source": [
    "import seaborn as sns"
   ]
  },
  {
   "cell_type": "code",
   "execution_count": 6,
   "id": "a23c83a7-0c4e-4bff-b8cb-253671e5d1d6",
   "metadata": {},
   "outputs": [],
   "source": [
    "import pandas as pd\n",
    "from pathlib import Path\n",
    "import networkx as nx\n",
    "import igraph as ig\n",
    "\n",
    "import matplotlib.pyplot as plt\n",
    "import numpy as np\n",
    "from time import time\n",
    "\n",
    "## Descargar el csv con los datos en este directorio\n",
    "DATA_DIR = Path('./data')\n",
    "INPUT_FILE = DATA_DIR / 'vacunas.csv'\n",
    "\n",
    "## Creamos el directorio en caso de que no exista\n",
    "DATA_DIR.mkdir(parents=True, exist_ok=True)"
   ]
  },
  {
   "cell_type": "markdown",
   "id": "acf6889f-86be-4fc8-b281-a738b8d475c4",
   "metadata": {},
   "source": [
    "### Cargamos el dataset"
   ]
  },
  {
   "cell_type": "code",
   "execution_count": 13,
   "id": "e43cef47-be3b-47ba-9a07-9373013580ec",
   "metadata": {},
   "outputs": [
    {
     "name": "stdout",
     "output_type": "stream",
     "text": [
      "(155123, 8)\n"
     ]
    },
    {
     "data": {
      "text/html": [
       "<div>\n",
       "<style scoped>\n",
       "    .dataframe tbody tr th:only-of-type {\n",
       "        vertical-align: middle;\n",
       "    }\n",
       "\n",
       "    .dataframe tbody tr th {\n",
       "        vertical-align: top;\n",
       "    }\n",
       "\n",
       "    .dataframe thead th {\n",
       "        text-align: right;\n",
       "    }\n",
       "</style>\n",
       "<table border=\"1\" class=\"dataframe\">\n",
       "  <thead>\n",
       "    <tr style=\"text-align: right;\">\n",
       "      <th></th>\n",
       "      <th>created_at</th>\n",
       "      <th>id_str</th>\n",
       "      <th>full_text</th>\n",
       "      <th>in_reply_to_status_id</th>\n",
       "      <th>in_reply_to_user_id</th>\n",
       "      <th>user.id</th>\n",
       "      <th>user_retweeters</th>\n",
       "      <th>sentiment</th>\n",
       "    </tr>\n",
       "  </thead>\n",
       "  <tbody>\n",
       "    <tr>\n",
       "      <th>0</th>\n",
       "      <td>Sat Feb 20 03:09:10 +0000 2021</td>\n",
       "      <td>1362962469749153792</td>\n",
       "      <td>Seguimos esperando el comunicado de @norabar r...</td>\n",
       "      <td>NaN</td>\n",
       "      <td>NaN</td>\n",
       "      <td>2737379453</td>\n",
       "      <td>[2258074658, 159909978, 105301854, 290671142, ...</td>\n",
       "      <td>NaN</td>\n",
       "    </tr>\n",
       "    <tr>\n",
       "      <th>1</th>\n",
       "      <td>Sat Feb 20 03:19:59 +0000 2021</td>\n",
       "      <td>1362965193509265417</td>\n",
       "      <td>@Clon_43 @norabar Nora estaba indignada porque...</td>\n",
       "      <td>1362962469749153792</td>\n",
       "      <td>2737379453</td>\n",
       "      <td>32718111</td>\n",
       "      <td>[]</td>\n",
       "      <td>NaN</td>\n",
       "    </tr>\n",
       "    <tr>\n",
       "      <th>2</th>\n",
       "      <td>Mon Feb 22 23:55:08 +0000 2021</td>\n",
       "      <td>1364000806740111363</td>\n",
       "      <td>Bueno, Alberto dijo Salud o Economía. La salud...</td>\n",
       "      <td>NaN</td>\n",
       "      <td>NaN</td>\n",
       "      <td>252168075</td>\n",
       "      <td>[1238117630696972289, 37232479, 12792246571247...</td>\n",
       "      <td>NaN</td>\n",
       "    </tr>\n",
       "    <tr>\n",
       "      <th>3</th>\n",
       "      <td>Tue Feb 23 00:09:14 +0000 2021</td>\n",
       "      <td>1364004354374696963</td>\n",
       "      <td>@spitta1969 Tuit del mes Spitta</td>\n",
       "      <td>1364000806740111363</td>\n",
       "      <td>252168075</td>\n",
       "      <td>1156346340802224128</td>\n",
       "      <td>[]</td>\n",
       "      <td>NaN</td>\n",
       "    </tr>\n",
       "    <tr>\n",
       "      <th>4</th>\n",
       "      <td>Tue Feb 23 00:00:17 +0000 2021</td>\n",
       "      <td>1364002100364128260</td>\n",
       "      <td>@spitta1969 Estas onfire</td>\n",
       "      <td>1364000806740111363</td>\n",
       "      <td>252168075</td>\n",
       "      <td>153663816</td>\n",
       "      <td>[]</td>\n",
       "      <td>NaN</td>\n",
       "    </tr>\n",
       "  </tbody>\n",
       "</table>\n",
       "</div>"
      ],
      "text/plain": [
       "                       created_at               id_str  \\\n",
       "0  Sat Feb 20 03:09:10 +0000 2021  1362962469749153792   \n",
       "1  Sat Feb 20 03:19:59 +0000 2021  1362965193509265417   \n",
       "2  Mon Feb 22 23:55:08 +0000 2021  1364000806740111363   \n",
       "3  Tue Feb 23 00:09:14 +0000 2021  1364004354374696963   \n",
       "4  Tue Feb 23 00:00:17 +0000 2021  1364002100364128260   \n",
       "\n",
       "                                           full_text in_reply_to_status_id  \\\n",
       "0  Seguimos esperando el comunicado de @norabar r...                   NaN   \n",
       "1  @Clon_43 @norabar Nora estaba indignada porque...   1362962469749153792   \n",
       "2  Bueno, Alberto dijo Salud o Economía. La salud...                   NaN   \n",
       "3                    @spitta1969 Tuit del mes Spitta   1364000806740111363   \n",
       "4                           @spitta1969 Estas onfire   1364000806740111363   \n",
       "\n",
       "  in_reply_to_user_id              user.id  \\\n",
       "0                 NaN           2737379453   \n",
       "1          2737379453             32718111   \n",
       "2                 NaN            252168075   \n",
       "3           252168075  1156346340802224128   \n",
       "4           252168075            153663816   \n",
       "\n",
       "                                     user_retweeters sentiment  \n",
       "0  [2258074658, 159909978, 105301854, 290671142, ...       NaN  \n",
       "1                                                 []       NaN  \n",
       "2  [1238117630696972289, 37232479, 12792246571247...       NaN  \n",
       "3                                                 []       NaN  \n",
       "4                                                 []       NaN  "
      ]
     },
     "execution_count": 13,
     "metadata": {},
     "output_type": "execute_result"
    }
   ],
   "source": [
    "dtypes = {\n",
    "    'id_str': str,\n",
    "    'full_text': str,\n",
    "    'in_reply_to_status_id': str,\n",
    "    'in_reply_to_user_id': str,\n",
    "    'user.id': str\n",
    "}\n",
    "df = pd.read_csv(INPUT_FILE, dtype=dtypes).dropna(subset=['user_retweeters'])\n",
    "df['user_retweeters'] = df['user_retweeters'].apply(lambda x: [str(elem) for elem in eval(x)])\n",
    "print(df.shape)\n",
    "df.head()"
   ]
  },
  {
   "cell_type": "markdown",
   "id": "bd778ff2-c52b-4541-83bb-ab515e233fb3",
   "metadata": {
    "tags": []
   },
   "source": [
    "### Observamos algunos ejemplos"
   ]
  },
  {
   "cell_type": "code",
   "execution_count": 14,
   "id": "626fb5fa-2875-47c0-9e30-cb1a456a1c13",
   "metadata": {},
   "outputs": [
    {
     "name": "stdout",
     "output_type": "stream",
     "text": [
      "Texto: Seguimos esperando el comunicado de @norabar repudiando la situación respecto del gobierno y el tema vacunas. Seamos pacientes que con esto de la pandemia anda con mucho \"laburo\".\n",
      "Retweets: 9\n"
     ]
    }
   ],
   "source": [
    "idx = 0\n",
    "print('Texto:', df.full_text.values[idx])\n",
    "print('Retweets:', len(df.user_retweeters.values[idx]))"
   ]
  },
  {
   "cell_type": "code",
   "execution_count": 15,
   "id": "f6ca9ab4-d966-4613-8d06-b139b30255b8",
   "metadata": {},
   "outputs": [
    {
     "name": "stdout",
     "output_type": "stream",
     "text": [
      "Text: Todo lo que hay que entender sobre la decisión –o no– de poner más vacunas en más brazos (por ejemplo, usar las 1º dosis en muchos y si es necesario retrasar la 2º) está en esta excelente nota de Nora Bär. https://t.co/A0I03DyxgO\n",
      "Retweets: 48\n"
     ]
    }
   ],
   "source": [
    "idx = 376\n",
    "print('Text:', df.full_text.values[idx])\n",
    "print('Retweets:', len(df.user_retweeters.values[idx]))"
   ]
  },
  {
   "cell_type": "markdown",
   "id": "1d3911d7-cc49-4d84-95b6-4f096f5f56c3",
   "metadata": {},
   "source": [
    "### Calculamos la cantidad de hilos"
   ]
  },
  {
   "cell_type": "code",
   "execution_count": 16,
   "id": "59b6c11f-5766-45e4-a264-f3733df8694d",
   "metadata": {},
   "outputs": [
    {
     "data": {
      "text/plain": [
       "(3174, 8)"
      ]
     },
     "execution_count": 16,
     "metadata": {},
     "output_type": "execute_result"
    }
   ],
   "source": [
    "roots = df[df['in_reply_to_user_id'].isna()]\n",
    "roots.shape"
   ]
  },
  {
   "cell_type": "markdown",
   "id": "9258ad30-e325-45ce-94e8-9e0ec4317df4",
   "metadata": {},
   "source": [
    "## Actividades"
   ]
  },
  {
   "cell_type": "markdown",
   "id": "70f377d2-6e8d-437c-ab01-1a314b7af7eb",
   "metadata": {
    "jp-MarkdownHeadingCollapsed": true,
    "tags": []
   },
   "source": [
    "### Primera parte\n",
    "\n",
    "#### **1. Construcción del grafo** \n",
    "\n",
    "Construir el **grafo de retweets**, definido de la siguiente manera:\n",
    "\n",
    "- Tipo de grafo: Dirigido\n",
    "- Nodos: ID de los usuarios\n",
    "- Enlaces: (Usuario A) ---> (Usuario B) si B retweeteó algún tweet de A\n",
    "\n",
    "Con estos datos, el grafo debería tener alrededor de 40000 nodos y 90000 enlaces.\n",
    "\n",
    "Considerar la versión no dirigida del grafo y estudiar su conectividad. Si existe una única \"componente gigante\", realizar el resto de las actividades sobre ella, en lugar de sobre el grafo completo.\n",
    "\n",
    "Calcular las siguientes métricas globales del grafo:\n",
    "\n",
    "- Grado medio\n",
    "- Asortatividad\n",
    "- Transitividad\n",
    "- Coeficiente de clustering de Watts-Strogatz\n",
    "\n",
    "**Opcional:** Comparar las métricas calculadas anteriormente con las de un grafo aleatorio con la misma distribución de grado. Pueden utilizar para ello este [método](https://networkx.org/documentation/stable/reference/generated/networkx.generators.degree_seq.configuration_model.html?highlight=configuration#networkx.generators.degree_seq.configuration_model). Con esto en mente, comentar si los valores obtenidos anteriormente difieren significativamente del caso aleatorio.\n",
    "\n",
    "\n"
   ]
  },
  {
   "cell_type": "code",
   "execution_count": 17,
   "id": "178d4a1b-5443-49a6-a625-95e51f80e080",
   "metadata": {},
   "outputs": [
    {
     "data": {
      "text/html": [
       "<div>\n",
       "<style scoped>\n",
       "    .dataframe tbody tr th:only-of-type {\n",
       "        vertical-align: middle;\n",
       "    }\n",
       "\n",
       "    .dataframe tbody tr th {\n",
       "        vertical-align: top;\n",
       "    }\n",
       "\n",
       "    .dataframe thead th {\n",
       "        text-align: right;\n",
       "    }\n",
       "</style>\n",
       "<table border=\"1\" class=\"dataframe\">\n",
       "  <thead>\n",
       "    <tr style=\"text-align: right;\">\n",
       "      <th></th>\n",
       "      <th>created_at</th>\n",
       "      <th>id_str</th>\n",
       "      <th>full_text</th>\n",
       "      <th>in_reply_to_status_id</th>\n",
       "      <th>in_reply_to_user_id</th>\n",
       "      <th>user.id</th>\n",
       "      <th>user_retweeters</th>\n",
       "      <th>sentiment</th>\n",
       "    </tr>\n",
       "  </thead>\n",
       "  <tbody>\n",
       "    <tr>\n",
       "      <th>0</th>\n",
       "      <td>Sat Feb 20 03:09:10 +0000 2021</td>\n",
       "      <td>1362962469749153792</td>\n",
       "      <td>Seguimos esperando el comunicado de @norabar r...</td>\n",
       "      <td>NaN</td>\n",
       "      <td>NaN</td>\n",
       "      <td>2737379453</td>\n",
       "      <td>[2258074658, 159909978, 105301854, 290671142, ...</td>\n",
       "      <td>NaN</td>\n",
       "    </tr>\n",
       "    <tr>\n",
       "      <th>1</th>\n",
       "      <td>Sat Feb 20 03:19:59 +0000 2021</td>\n",
       "      <td>1362965193509265417</td>\n",
       "      <td>@Clon_43 @norabar Nora estaba indignada porque...</td>\n",
       "      <td>1362962469749153792</td>\n",
       "      <td>2737379453</td>\n",
       "      <td>32718111</td>\n",
       "      <td>[]</td>\n",
       "      <td>NaN</td>\n",
       "    </tr>\n",
       "    <tr>\n",
       "      <th>2</th>\n",
       "      <td>Mon Feb 22 23:55:08 +0000 2021</td>\n",
       "      <td>1364000806740111363</td>\n",
       "      <td>Bueno, Alberto dijo Salud o Economía. La salud...</td>\n",
       "      <td>NaN</td>\n",
       "      <td>NaN</td>\n",
       "      <td>252168075</td>\n",
       "      <td>[1238117630696972289, 37232479, 12792246571247...</td>\n",
       "      <td>NaN</td>\n",
       "    </tr>\n",
       "    <tr>\n",
       "      <th>3</th>\n",
       "      <td>Tue Feb 23 00:09:14 +0000 2021</td>\n",
       "      <td>1364004354374696963</td>\n",
       "      <td>@spitta1969 Tuit del mes Spitta</td>\n",
       "      <td>1364000806740111363</td>\n",
       "      <td>252168075</td>\n",
       "      <td>1156346340802224128</td>\n",
       "      <td>[]</td>\n",
       "      <td>NaN</td>\n",
       "    </tr>\n",
       "    <tr>\n",
       "      <th>4</th>\n",
       "      <td>Tue Feb 23 00:00:17 +0000 2021</td>\n",
       "      <td>1364002100364128260</td>\n",
       "      <td>@spitta1969 Estas onfire</td>\n",
       "      <td>1364000806740111363</td>\n",
       "      <td>252168075</td>\n",
       "      <td>153663816</td>\n",
       "      <td>[]</td>\n",
       "      <td>NaN</td>\n",
       "    </tr>\n",
       "    <tr>\n",
       "      <th>...</th>\n",
       "      <td>...</td>\n",
       "      <td>...</td>\n",
       "      <td>...</td>\n",
       "      <td>...</td>\n",
       "      <td>...</td>\n",
       "      <td>...</td>\n",
       "      <td>...</td>\n",
       "      <td>...</td>\n",
       "    </tr>\n",
       "    <tr>\n",
       "      <th>163174</th>\n",
       "      <td>Tue Jan 12 23:24:10 +0000 2021</td>\n",
       "      <td>1349135109010677767</td>\n",
       "      <td>@Die_IsCast @norabar @enzosebastin221 Retuitea...</td>\n",
       "      <td>1349122147587940353</td>\n",
       "      <td>2955376486</td>\n",
       "      <td>176835482</td>\n",
       "      <td>[]</td>\n",
       "      <td>NaN</td>\n",
       "    </tr>\n",
       "    <tr>\n",
       "      <th>163175</th>\n",
       "      <td>Wed Jan 13 01:56:56 +0000 2021</td>\n",
       "      <td>1349173553833381888</td>\n",
       "      <td>@todosflotan @norabar @enzosebastin221 Sí, sí,...</td>\n",
       "      <td>1349135109010677767</td>\n",
       "      <td>176835482</td>\n",
       "      <td>2955376486</td>\n",
       "      <td>[]</td>\n",
       "      <td>NaN</td>\n",
       "    </tr>\n",
       "    <tr>\n",
       "      <th>163176</th>\n",
       "      <td>Wed Jan 13 02:02:07 +0000 2021</td>\n",
       "      <td>1349174860702953474</td>\n",
       "      <td>@Die_IsCast @norabar @enzosebastin221 seguí co...</td>\n",
       "      <td>1349173553833381888</td>\n",
       "      <td>2955376486</td>\n",
       "      <td>176835482</td>\n",
       "      <td>[]</td>\n",
       "      <td>NaN</td>\n",
       "    </tr>\n",
       "    <tr>\n",
       "      <th>163177</th>\n",
       "      <td>Tue Jan 12 15:07:16 +0000 2021</td>\n",
       "      <td>1349010059712491522</td>\n",
       "      <td>@mirtapsp @todosflotan @norabar Nora, trabaja ...</td>\n",
       "      <td>1349002034968719360</td>\n",
       "      <td>138734328</td>\n",
       "      <td>1219302815916527618</td>\n",
       "      <td>[]</td>\n",
       "      <td>NaN</td>\n",
       "    </tr>\n",
       "    <tr>\n",
       "      <th>163178</th>\n",
       "      <td>Tue Jan 12 22:38:02 +0000 2021</td>\n",
       "      <td>1349123499030437888</td>\n",
       "      <td>@altiroweon @norabar @carlavizzotti https://t....</td>\n",
       "      <td>1349099459033116675</td>\n",
       "      <td>1015463782259273728</td>\n",
       "      <td>2955376486</td>\n",
       "      <td>[]</td>\n",
       "      <td>NaN</td>\n",
       "    </tr>\n",
       "  </tbody>\n",
       "</table>\n",
       "<p>155123 rows × 8 columns</p>\n",
       "</div>"
      ],
      "text/plain": [
       "                            created_at               id_str  \\\n",
       "0       Sat Feb 20 03:09:10 +0000 2021  1362962469749153792   \n",
       "1       Sat Feb 20 03:19:59 +0000 2021  1362965193509265417   \n",
       "2       Mon Feb 22 23:55:08 +0000 2021  1364000806740111363   \n",
       "3       Tue Feb 23 00:09:14 +0000 2021  1364004354374696963   \n",
       "4       Tue Feb 23 00:00:17 +0000 2021  1364002100364128260   \n",
       "...                                ...                  ...   \n",
       "163174  Tue Jan 12 23:24:10 +0000 2021  1349135109010677767   \n",
       "163175  Wed Jan 13 01:56:56 +0000 2021  1349173553833381888   \n",
       "163176  Wed Jan 13 02:02:07 +0000 2021  1349174860702953474   \n",
       "163177  Tue Jan 12 15:07:16 +0000 2021  1349010059712491522   \n",
       "163178  Tue Jan 12 22:38:02 +0000 2021  1349123499030437888   \n",
       "\n",
       "                                                full_text  \\\n",
       "0       Seguimos esperando el comunicado de @norabar r...   \n",
       "1       @Clon_43 @norabar Nora estaba indignada porque...   \n",
       "2       Bueno, Alberto dijo Salud o Economía. La salud...   \n",
       "3                         @spitta1969 Tuit del mes Spitta   \n",
       "4                                @spitta1969 Estas onfire   \n",
       "...                                                   ...   \n",
       "163174  @Die_IsCast @norabar @enzosebastin221 Retuitea...   \n",
       "163175  @todosflotan @norabar @enzosebastin221 Sí, sí,...   \n",
       "163176  @Die_IsCast @norabar @enzosebastin221 seguí co...   \n",
       "163177  @mirtapsp @todosflotan @norabar Nora, trabaja ...   \n",
       "163178  @altiroweon @norabar @carlavizzotti https://t....   \n",
       "\n",
       "       in_reply_to_status_id  in_reply_to_user_id              user.id  \\\n",
       "0                        NaN                  NaN           2737379453   \n",
       "1        1362962469749153792           2737379453             32718111   \n",
       "2                        NaN                  NaN            252168075   \n",
       "3        1364000806740111363            252168075  1156346340802224128   \n",
       "4        1364000806740111363            252168075            153663816   \n",
       "...                      ...                  ...                  ...   \n",
       "163174   1349122147587940353           2955376486            176835482   \n",
       "163175   1349135109010677767            176835482           2955376486   \n",
       "163176   1349173553833381888           2955376486            176835482   \n",
       "163177   1349002034968719360            138734328  1219302815916527618   \n",
       "163178   1349099459033116675  1015463782259273728           2955376486   \n",
       "\n",
       "                                          user_retweeters sentiment  \n",
       "0       [2258074658, 159909978, 105301854, 290671142, ...       NaN  \n",
       "1                                                      []       NaN  \n",
       "2       [1238117630696972289, 37232479, 12792246571247...       NaN  \n",
       "3                                                      []       NaN  \n",
       "4                                                      []       NaN  \n",
       "...                                                   ...       ...  \n",
       "163174                                                 []       NaN  \n",
       "163175                                                 []       NaN  \n",
       "163176                                                 []       NaN  \n",
       "163177                                                 []       NaN  \n",
       "163178                                                 []       NaN  \n",
       "\n",
       "[155123 rows x 8 columns]"
      ]
     },
     "execution_count": 17,
     "metadata": {},
     "output_type": "execute_result"
    }
   ],
   "source": [
    "df"
   ]
  },
  {
   "cell_type": "code",
   "execution_count": 18,
   "id": "92fdbfa7-4ffc-4823-b1ac-2525a6d6fcb6",
   "metadata": {},
   "outputs": [],
   "source": [
    "G = nx.Graph()\n"
   ]
  },
  {
   "cell_type": "markdown",
   "id": "b5ebb85b-0d9b-473d-9411-5ceded6968b7",
   "metadata": {},
   "source": [
    "Intentamos armarlo con DiGraph, pero en uno de los puntos posteriores la librería no funcionaba con gráficos dirigidos, por lo que optamos por la versión no dirigida"
   ]
  },
  {
   "cell_type": "code",
   "execution_count": 19,
   "id": "cc82a1e8-4ae2-4983-bc69-82209c61b956",
   "metadata": {},
   "outputs": [],
   "source": [
    "edges = df.apply( lambda row : [( row['user.id'] , v ) for v in row['user_retweeters']] ,  axis=1 )\n"
   ]
  },
  {
   "cell_type": "code",
   "execution_count": 20,
   "id": "0004398b-92d2-449e-83bb-d05b8dc3861d",
   "metadata": {},
   "outputs": [],
   "source": [
    "for edge in edges:\n",
    "    G.add_edges_from(edge)"
   ]
  },
  {
   "cell_type": "code",
   "execution_count": 21,
   "id": "4c50f15d-840e-4e4d-86e6-bdd60ab0698c",
   "metadata": {},
   "outputs": [
    {
     "name": "stdout",
     "output_type": "stream",
     "text": [
      "Name: \n",
      "Type: Graph\n",
      "Number of nodes: 39800\n",
      "Number of edges: 93404\n",
      "Average degree:   4.6937\n"
     ]
    }
   ],
   "source": [
    "print(nx.info(G))\n"
   ]
  },
  {
   "cell_type": "markdown",
   "id": "93f9b914-648a-43bf-b57f-b870531c6ba8",
   "metadata": {},
   "source": [
    "## Grado medio"
   ]
  },
  {
   "cell_type": "code",
   "execution_count": 22,
   "id": "e45925bf-88e1-4c67-8b11-df577e66c356",
   "metadata": {},
   "outputs": [
    {
     "data": {
      "text/plain": [
       "4.693668341708543"
      ]
     },
     "execution_count": 22,
     "metadata": {},
     "output_type": "execute_result"
    }
   ],
   "source": [
    "deg_seq = np.array([k for v, k in G.degree()])\n",
    "\n",
    "grado_medio = sum(deg_seq) / len(deg_seq)\n",
    "grado_medio"
   ]
  },
  {
   "cell_type": "markdown",
   "id": "3ff38fc6-ac3a-4499-bf79-88e91866937d",
   "metadata": {},
   "source": [
    "Cada uno de los nodos está conectado con otros 5, en media."
   ]
  },
  {
   "cell_type": "markdown",
   "id": "2cc4318f-e044-4038-9cfc-728c0d2bf10c",
   "metadata": {},
   "source": [
    "## Asortatividad"
   ]
  },
  {
   "cell_type": "code",
   "execution_count": 23,
   "id": "934170a5-73e4-4da3-aa36-3d1139a118cf",
   "metadata": {},
   "outputs": [
    {
     "data": {
      "text/plain": [
       "-0.22131902542941637"
      ]
     },
     "execution_count": 23,
     "metadata": {},
     "output_type": "execute_result"
    }
   ],
   "source": [
    "assortativity = nx.degree_pearson_correlation_coefficient(G)\n",
    "assortativity"
   ]
  },
  {
   "cell_type": "markdown",
   "id": "63164a68-0836-427d-b0f8-d7b8faaacdda",
   "metadata": {},
   "source": [
    "Por su valor, la probabilidad de que dos nodos con la misma propiedad estén conectados es muy baja."
   ]
  },
  {
   "cell_type": "markdown",
   "id": "bd81d695-00b6-4dad-a1a4-f2ce784ff8b4",
   "metadata": {},
   "source": [
    "## Transitividad "
   ]
  },
  {
   "cell_type": "code",
   "execution_count": 24,
   "id": "6d7bce72-adfb-4a38-9e04-dbc7146350cc",
   "metadata": {},
   "outputs": [
    {
     "data": {
      "text/plain": [
       "0.0016125612488585316"
      ]
     },
     "execution_count": 24,
     "metadata": {},
     "output_type": "execute_result"
    }
   ],
   "source": [
    "transitivity = nx.transitivity(G)\n",
    "transitivity"
   ]
  },
  {
   "cell_type": "markdown",
   "id": "56837cde-f760-4323-a074-ece55162047d",
   "metadata": {},
   "source": [
    "Implica que hay muy pocas triadas conectadas, es decir que apunta en la misma direccion que la asortatividad.\n"
   ]
  },
  {
   "cell_type": "markdown",
   "id": "5108d463-61d0-4796-8dd8-625046270a71",
   "metadata": {},
   "source": [
    "## Coeficiente de clustering de Watts-Strogatz"
   ]
  },
  {
   "cell_type": "code",
   "execution_count": 25,
   "id": "85434ebd-6cd6-4c0b-b380-87ddd26eed27",
   "metadata": {},
   "outputs": [
    {
     "data": {
      "text/plain": [
       "0.09990623904532091"
      ]
     },
     "execution_count": 25,
     "metadata": {},
     "output_type": "execute_result"
    }
   ],
   "source": [
    "avg_clustering = nx.average_clustering(G)\n",
    "avg_clustering"
   ]
  },
  {
   "cell_type": "markdown",
   "id": "cbe21f5b-2943-49ce-9c44-cd249fad23e9",
   "metadata": {},
   "source": [
    "Mide la posibilidad de que dos nodos conectados al mismo nodo también estén conectados entre si. En este caso es muy baja."
   ]
  },
  {
   "cell_type": "markdown",
   "id": "068c95a8-dcfb-4cb2-bcd4-99fc11d298ef",
   "metadata": {},
   "source": [
    "#### **2. Centralidad**\n",
    "\n",
    "Calcular 5 métricas de centralidad de nodos. Graficar la distribución de cada una de ellas ¿Existe alguna correlación entre las distintas centralidades? \n",
    "\n",
    "Hacer un ranking con los 10 nodos más centrales para cada métrica. ¿Hay coincidencia entre los rankings?. ¿Qué características tienen los usuarios más centrales y sus respectivos tweets?\n",
    "\n",
    "**Opcional:** Determinar si existe alguna correlación entre la centralidad de un nodo y su actividad en red social. Es decir, evaluar si los usuarios que más escriben son los más centrales o no.\n",
    "\n"
   ]
  },
  {
   "cell_type": "markdown",
   "id": "c497edc1-127f-4155-ac10-76ef36147dce",
   "metadata": {},
   "source": [
    "Nos pasamos a la librería igraph ya que tiene mejor performance al calcular medidas de centralidad."
   ]
  },
  {
   "cell_type": "code",
   "execution_count": 26,
   "id": "13add8b4-d17a-470b-9d5b-0aeae3639ca0",
   "metadata": {},
   "outputs": [
    {
     "name": "stdout",
     "output_type": "stream",
     "text": [
      "IGRAPH UN-- 39800 93404 -- \n",
      "+ attr: name (v)\n"
     ]
    }
   ],
   "source": [
    "ig = ig.Graph.TupleList(G.edges())\n",
    "print(ig.summary())"
   ]
  },
  {
   "cell_type": "code",
   "execution_count": 27,
   "id": "1119a289-ca48-4866-b708-5ce3846bbd02",
   "metadata": {},
   "outputs": [],
   "source": [
    "df_metrics = ig.get_vertex_dataframe()\n"
   ]
  },
  {
   "cell_type": "markdown",
   "id": "a060e2da-ce5b-4c81-9b9b-fafcec7a427b",
   "metadata": {},
   "source": [
    "*Betweenness* es el número de caminos geodésicos que pasan por un nodo."
   ]
  },
  {
   "cell_type": "code",
   "execution_count": 28,
   "id": "1540be6b-1638-406f-8d8f-06e9c5613be5",
   "metadata": {},
   "outputs": [],
   "source": [
    "btw = ig.betweenness()\n",
    "df_metrics['btw'] = btw\n"
   ]
  },
  {
   "cell_type": "code",
   "execution_count": 53,
   "id": "e51c89f0-82b8-4a14-98e4-a0997116d2c5",
   "metadata": {},
   "outputs": [
    {
     "name": "stderr",
     "output_type": "stream",
     "text": [
      "C:\\Users\\Magui\\anaconda3\\lib\\site-packages\\seaborn\\distributions.py:2557: FutureWarning: `distplot` is a deprecated function and will be removed in a future version. Please adapt your code to use either `displot` (a figure-level function with similar flexibility) or `histplot` (an axes-level function for histograms).\n",
      "  warnings.warn(msg, FutureWarning)\n"
     ]
    },
    {
     "data": {
      "text/plain": [
       "<AxesSubplot:ylabel='Density'>"
      ]
     },
     "execution_count": 53,
     "metadata": {},
     "output_type": "execute_result"
    },
    {
     "data": {
      "image/png": "[encoded data removed]",
      "text/plain": [
       "<Figure size 432x288 with 1 Axes>"
      ]
     },
     "metadata": {
      "needs_background": "light"
     },
     "output_type": "display_data"
    }
   ],
   "source": [
    "sns.distplot(btw)\n"
   ]
  },
  {
   "cell_type": "markdown",
   "id": "44169310-d89c-4d16-9b23-b3b4fe2c12b5",
   "metadata": {},
   "source": [
    "*Strength* es la suma de los pesos de los vértices conectados al nodo."
   ]
  },
  {
   "cell_type": "code",
   "execution_count": 43,
   "id": "b793cf57-f624-4338-b6a8-dca8bbeef1a5",
   "metadata": {},
   "outputs": [],
   "source": [
    "st=ig.strength()\n",
    "df_metrics['st'] = st\n"
   ]
  },
  {
   "cell_type": "code",
   "execution_count": 54,
   "id": "978ff414-667a-4365-aa25-b4a0b56001b5",
   "metadata": {},
   "outputs": [
    {
     "name": "stderr",
     "output_type": "stream",
     "text": [
      "C:\\Users\\Magui\\anaconda3\\lib\\site-packages\\seaborn\\distributions.py:2557: FutureWarning: `distplot` is a deprecated function and will be removed in a future version. Please adapt your code to use either `displot` (a figure-level function with similar flexibility) or `histplot` (an axes-level function for histograms).\n",
      "  warnings.warn(msg, FutureWarning)\n"
     ]
    },
    {
     "data": {
      "text/plain": [
       "<AxesSubplot:ylabel='Density'>"
      ]
     },
     "execution_count": 54,
     "metadata": {},
     "output_type": "execute_result"
    },
    {
     "data": {
      "image/png": "[encoded data removed]",
      "text/plain": [
       "<Figure size 432x288 with 1 Axes>"
      ]
     },
     "metadata": {
      "needs_background": "light"
     },
     "output_type": "display_data"
    }
   ],
   "source": [
    "sns.distplot(st)\n"
   ]
  },
  {
   "cell_type": "markdown",
   "id": "b2d623ee-e97e-4929-9a5b-34d91e9b805a",
   "metadata": {},
   "source": [
    "*Closeness* es el número de pasos necesarios para acceder a cualquier otro nodo desde el nodo."
   ]
  },
  {
   "cell_type": "code",
   "execution_count": 30,
   "id": "2f01bac5-3b97-4a23-a04a-a589d11a0a99",
   "metadata": {},
   "outputs": [],
   "source": [
    "closeness = ig.closeness()\n",
    "df_metrics['closeness']  = closeness\n"
   ]
  },
  {
   "cell_type": "code",
   "execution_count": 55,
   "id": "c2ac1440-8966-46ed-a526-2f0dd72135f1",
   "metadata": {},
   "outputs": [
    {
     "name": "stderr",
     "output_type": "stream",
     "text": [
      "C:\\Users\\Magui\\anaconda3\\lib\\site-packages\\seaborn\\distributions.py:2557: FutureWarning: `distplot` is a deprecated function and will be removed in a future version. Please adapt your code to use either `displot` (a figure-level function with similar flexibility) or `histplot` (an axes-level function for histograms).\n",
      "  warnings.warn(msg, FutureWarning)\n"
     ]
    },
    {
     "data": {
      "text/plain": [
       "<AxesSubplot:ylabel='Density'>"
      ]
     },
     "execution_count": 55,
     "metadata": {},
     "output_type": "execute_result"
    },
    {
     "data": {
      "image/png": "[encoded data removed]",
      "text/plain": [
       "<Figure size 432x288 with 1 Axes>"
      ]
     },
     "metadata": {
      "needs_background": "light"
     },
     "output_type": "display_data"
    }
   ],
   "source": [
    "sns.distplot(closeness)\n"
   ]
  },
  {
   "cell_type": "markdown",
   "id": "1566f5da-8c6f-4442-a6bf-394f610b686c",
   "metadata": {},
   "source": [
    "*Degree* es el numero de vértices conectados a un nodo, en este caso es la cantidad de personas que retuitearon el tuit de una persona."
   ]
  },
  {
   "cell_type": "code",
   "execution_count": 31,
   "id": "f705098b-46a2-4104-b022-0885cc0da521",
   "metadata": {},
   "outputs": [],
   "source": [
    "degree = ig.degree()\n",
    "df_metrics['degree'] = degree\n"
   ]
  },
  {
   "cell_type": "code",
   "execution_count": 56,
   "id": "4be9a16e-fbae-4145-b262-3bab337b991c",
   "metadata": {},
   "outputs": [
    {
     "name": "stderr",
     "output_type": "stream",
     "text": [
      "C:\\Users\\Magui\\anaconda3\\lib\\site-packages\\seaborn\\distributions.py:2557: FutureWarning: `distplot` is a deprecated function and will be removed in a future version. Please adapt your code to use either `displot` (a figure-level function with similar flexibility) or `histplot` (an axes-level function for histograms).\n",
      "  warnings.warn(msg, FutureWarning)\n"
     ]
    },
    {
     "data": {
      "text/plain": [
       "<AxesSubplot:ylabel='Density'>"
      ]
     },
     "execution_count": 56,
     "metadata": {},
     "output_type": "execute_result"
    },
    {
     "data": {
      "image/png": "[encoded data removed]",
      "text/plain": [
       "<Figure size 432x288 with 1 Axes>"
      ]
     },
     "metadata": {
      "needs_background": "light"
     },
     "output_type": "display_data"
    }
   ],
   "source": [
    "sns.distplot(degree)\n"
   ]
  },
  {
   "cell_type": "markdown",
   "id": "5bc869a5-1f77-462a-a3b0-5553068b324f",
   "metadata": {},
   "source": [
    "*eigenvector centrality* Valores del primer vector propio de la matriz de adyacencia del gráfico. Los valores son altos para los vértices que están conectados a muchos otros vértices que, a su vez, están conectados a muchos otros, etc."
   ]
  },
  {
   "cell_type": "code",
   "execution_count": 33,
   "id": "4fca9c24-19f7-40c5-b398-ffae6fe67666",
   "metadata": {},
   "outputs": [],
   "source": [
    "eigenvector_centrality = ig.eigenvector_centrality()\n",
    "df_metrics['eigenvector_centrality'] = eigenvector_centrality\n"
   ]
  },
  {
   "cell_type": "code",
   "execution_count": 57,
   "id": "89047b5d-2354-4526-9443-b47190459ff4",
   "metadata": {},
   "outputs": [
    {
     "name": "stderr",
     "output_type": "stream",
     "text": [
      "C:\\Users\\Magui\\anaconda3\\lib\\site-packages\\seaborn\\distributions.py:2557: FutureWarning: `distplot` is a deprecated function and will be removed in a future version. Please adapt your code to use either `displot` (a figure-level function with similar flexibility) or `histplot` (an axes-level function for histograms).\n",
      "  warnings.warn(msg, FutureWarning)\n"
     ]
    },
    {
     "data": {
      "text/plain": [
       "<AxesSubplot:ylabel='Density'>"
      ]
     },
     "execution_count": 57,
     "metadata": {},
     "output_type": "execute_result"
    },
    {
     "data": {
      "image/png": "[encoded data removed]",
      "text/plain": [
       "<Figure size 432x288 with 1 Axes>"
      ]
     },
     "metadata": {
      "needs_background": "light"
     },
     "output_type": "display_data"
    }
   ],
   "source": [
    "sns.distplot(eigenvector_centrality)\n"
   ]
  },
  {
   "cell_type": "markdown",
   "id": "5178da84-a487-4c50-af6f-9dc3911ba192",
   "metadata": {},
   "source": [
    "*page rank* La centralidad de PageRank de un vértice es la fracción de tiempo que un caminante aleatorio que atraviesa el gráfico pasaría en ese vértice"
   ]
  },
  {
   "cell_type": "code",
   "execution_count": 35,
   "id": "fb93d607-ece1-42ac-9c44-5d870055f0f4",
   "metadata": {},
   "outputs": [],
   "source": [
    "page_rank = ig.pagerank()\n",
    "df_metrics['page_rank'] = page_rank\n"
   ]
  },
  {
   "cell_type": "code",
   "execution_count": 58,
   "id": "da61b522-68c8-473c-945a-90a8ae2559c1",
   "metadata": {},
   "outputs": [
    {
     "name": "stderr",
     "output_type": "stream",
     "text": [
      "C:\\Users\\Magui\\anaconda3\\lib\\site-packages\\seaborn\\distributions.py:2557: FutureWarning: `distplot` is a deprecated function and will be removed in a future version. Please adapt your code to use either `displot` (a figure-level function with similar flexibility) or `histplot` (an axes-level function for histograms).\n",
      "  warnings.warn(msg, FutureWarning)\n"
     ]
    },
    {
     "data": {
      "text/plain": [
       "<AxesSubplot:ylabel='Density'>"
      ]
     },
     "execution_count": 58,
     "metadata": {},
     "output_type": "execute_result"
    },
    {
     "data": {
      "image/png": "[encoded data removed]",
      "text/plain": [
       "<Figure size 432x288 with 1 Axes>"
      ]
     },
     "metadata": {
      "needs_background": "light"
     },
     "output_type": "display_data"
    }
   ],
   "source": [
    "sns.distplot(page_rank)\n"
   ]
  },
  {
   "cell_type": "markdown",
   "id": "6fbe8251-ea4f-47fe-8a5c-1d88b00e1b15",
   "metadata": {},
   "source": [
    "*Harmonic centrality* no considera aquellos cuyo length sea mayor que el límite."
   ]
  },
  {
   "cell_type": "code",
   "execution_count": 37,
   "id": "b32a7dfc-5a29-46c8-807d-3da788508e09",
   "metadata": {},
   "outputs": [],
   "source": [
    "har_centr = ig.harmonic_centrality()\n",
    "df_metrics['har_centr'] = har_centr\n"
   ]
  },
  {
   "cell_type": "code",
   "execution_count": 59,
   "id": "b328a52c-362f-4c95-b625-9c85141b8f29",
   "metadata": {},
   "outputs": [
    {
     "name": "stderr",
     "output_type": "stream",
     "text": [
      "C:\\Users\\Magui\\anaconda3\\lib\\site-packages\\seaborn\\distributions.py:2557: FutureWarning: `distplot` is a deprecated function and will be removed in a future version. Please adapt your code to use either `displot` (a figure-level function with similar flexibility) or `histplot` (an axes-level function for histograms).\n",
      "  warnings.warn(msg, FutureWarning)\n"
     ]
    },
    {
     "data": {
      "text/plain": [
       "<AxesSubplot:ylabel='Density'>"
      ]
     },
     "execution_count": 59,
     "metadata": {},
     "output_type": "execute_result"
    },
    {
     "data": {
      "image/png": "[encoded data removed]",
      "text/plain": [
       "<Figure size 432x288 with 1 Axes>"
      ]
     },
     "metadata": {
      "needs_background": "light"
     },
     "output_type": "display_data"
    }
   ],
   "source": [
    "sns.distplot(har_centr)\n"
   ]
  },
  {
   "cell_type": "code",
   "execution_count": 60,
   "id": "44806295-5576-485c-a048-81a99ed6dc6d",
   "metadata": {},
   "outputs": [
    {
     "data": {
      "text/html": [
       "<div>\n",
       "<style scoped>\n",
       "    .dataframe tbody tr th:only-of-type {\n",
       "        vertical-align: middle;\n",
       "    }\n",
       "\n",
       "    .dataframe tbody tr th {\n",
       "        vertical-align: top;\n",
       "    }\n",
       "\n",
       "    .dataframe thead th {\n",
       "        text-align: right;\n",
       "    }\n",
       "</style>\n",
       "<table border=\"1\" class=\"dataframe\">\n",
       "  <thead>\n",
       "    <tr style=\"text-align: right;\">\n",
       "      <th></th>\n",
       "      <th>name</th>\n",
       "      <th>btw</th>\n",
       "      <th>closeness</th>\n",
       "      <th>degree</th>\n",
       "      <th>eigenvector_centrality</th>\n",
       "      <th>page_rank</th>\n",
       "      <th>har_centr</th>\n",
       "      <th>st</th>\n",
       "    </tr>\n",
       "    <tr>\n",
       "      <th>vertex ID</th>\n",
       "      <th></th>\n",
       "      <th></th>\n",
       "      <th></th>\n",
       "      <th></th>\n",
       "      <th></th>\n",
       "      <th></th>\n",
       "      <th></th>\n",
       "      <th></th>\n",
       "    </tr>\n",
       "  </thead>\n",
       "  <tbody>\n",
       "    <tr>\n",
       "      <th>0</th>\n",
       "      <td>2737379453</td>\n",
       "      <td>78111.640852</td>\n",
       "      <td>0.244898</td>\n",
       "      <td>9</td>\n",
       "      <td>7.483957e-04</td>\n",
       "      <td>0.000038</td>\n",
       "      <td>0.250772</td>\n",
       "      <td>9.0</td>\n",
       "    </tr>\n",
       "    <tr>\n",
       "      <th>1</th>\n",
       "      <td>2258074658</td>\n",
       "      <td>130535.561685</td>\n",
       "      <td>0.286305</td>\n",
       "      <td>19</td>\n",
       "      <td>9.090829e-03</td>\n",
       "      <td>0.000070</td>\n",
       "      <td>0.307703</td>\n",
       "      <td>19.0</td>\n",
       "    </tr>\n",
       "    <tr>\n",
       "      <th>2</th>\n",
       "      <td>159909978</td>\n",
       "      <td>0.000000</td>\n",
       "      <td>0.196722</td>\n",
       "      <td>1</td>\n",
       "      <td>7.490374e-06</td>\n",
       "      <td>0.000007</td>\n",
       "      <td>0.198210</td>\n",
       "      <td>1.0</td>\n",
       "    </tr>\n",
       "    <tr>\n",
       "      <th>3</th>\n",
       "      <td>105301854</td>\n",
       "      <td>31376.713412</td>\n",
       "      <td>0.304398</td>\n",
       "      <td>10</td>\n",
       "      <td>1.069571e-02</td>\n",
       "      <td>0.000036</td>\n",
       "      <td>0.325685</td>\n",
       "      <td>10.0</td>\n",
       "    </tr>\n",
       "    <tr>\n",
       "      <th>4</th>\n",
       "      <td>290671142</td>\n",
       "      <td>291383.100735</td>\n",
       "      <td>0.308014</td>\n",
       "      <td>15</td>\n",
       "      <td>1.193750e-02</td>\n",
       "      <td>0.000056</td>\n",
       "      <td>0.329096</td>\n",
       "      <td>15.0</td>\n",
       "    </tr>\n",
       "    <tr>\n",
       "      <th>...</th>\n",
       "      <td>...</td>\n",
       "      <td>...</td>\n",
       "      <td>...</td>\n",
       "      <td>...</td>\n",
       "      <td>...</td>\n",
       "      <td>...</td>\n",
       "      <td>...</td>\n",
       "      <td>...</td>\n",
       "    </tr>\n",
       "    <tr>\n",
       "      <th>39795</th>\n",
       "      <td>1311418268205428739</td>\n",
       "      <td>0.000000</td>\n",
       "      <td>0.166180</td>\n",
       "      <td>1</td>\n",
       "      <td>6.266713e-08</td>\n",
       "      <td>0.000011</td>\n",
       "      <td>0.165806</td>\n",
       "      <td>1.0</td>\n",
       "    </tr>\n",
       "    <tr>\n",
       "      <th>39796</th>\n",
       "      <td>2650545267</td>\n",
       "      <td>0.000000</td>\n",
       "      <td>0.182163</td>\n",
       "      <td>1</td>\n",
       "      <td>1.736447e-06</td>\n",
       "      <td>0.000009</td>\n",
       "      <td>0.184600</td>\n",
       "      <td>1.0</td>\n",
       "    </tr>\n",
       "    <tr>\n",
       "      <th>39797</th>\n",
       "      <td>391590171</td>\n",
       "      <td>0.000000</td>\n",
       "      <td>1.000000</td>\n",
       "      <td>1</td>\n",
       "      <td>0.000000e+00</td>\n",
       "      <td>0.000025</td>\n",
       "      <td>0.000025</td>\n",
       "      <td>1.0</td>\n",
       "    </tr>\n",
       "    <tr>\n",
       "      <th>39798</th>\n",
       "      <td>2765081259</td>\n",
       "      <td>0.000000</td>\n",
       "      <td>1.000000</td>\n",
       "      <td>1</td>\n",
       "      <td>0.000000e+00</td>\n",
       "      <td>0.000025</td>\n",
       "      <td>0.000025</td>\n",
       "      <td>1.0</td>\n",
       "    </tr>\n",
       "    <tr>\n",
       "      <th>39799</th>\n",
       "      <td>346605471</td>\n",
       "      <td>0.000000</td>\n",
       "      <td>0.216851</td>\n",
       "      <td>1</td>\n",
       "      <td>4.767069e-06</td>\n",
       "      <td>0.000008</td>\n",
       "      <td>0.217565</td>\n",
       "      <td>1.0</td>\n",
       "    </tr>\n",
       "  </tbody>\n",
       "</table>\n",
       "<p>39800 rows × 8 columns</p>\n",
       "</div>"
      ],
      "text/plain": [
       "                          name            btw  closeness  degree  \\\n",
       "vertex ID                                                          \n",
       "0                   2737379453   78111.640852   0.244898       9   \n",
       "1                   2258074658  130535.561685   0.286305      19   \n",
       "2                    159909978       0.000000   0.196722       1   \n",
       "3                    105301854   31376.713412   0.304398      10   \n",
       "4                    290671142  291383.100735   0.308014      15   \n",
       "...                        ...            ...        ...     ...   \n",
       "39795      1311418268205428739       0.000000   0.166180       1   \n",
       "39796               2650545267       0.000000   0.182163       1   \n",
       "39797                391590171       0.000000   1.000000       1   \n",
       "39798               2765081259       0.000000   1.000000       1   \n",
       "39799                346605471       0.000000   0.216851       1   \n",
       "\n",
       "           eigenvector_centrality  page_rank  har_centr    st  \n",
       "vertex ID                                                      \n",
       "0                    7.483957e-04   0.000038   0.250772   9.0  \n",
       "1                    9.090829e-03   0.000070   0.307703  19.0  \n",
       "2                    7.490374e-06   0.000007   0.198210   1.0  \n",
       "3                    1.069571e-02   0.000036   0.325685  10.0  \n",
       "4                    1.193750e-02   0.000056   0.329096  15.0  \n",
       "...                           ...        ...        ...   ...  \n",
       "39795                6.266713e-08   0.000011   0.165806   1.0  \n",
       "39796                1.736447e-06   0.000009   0.184600   1.0  \n",
       "39797                0.000000e+00   0.000025   0.000025   1.0  \n",
       "39798                0.000000e+00   0.000025   0.000025   1.0  \n",
       "39799                4.767069e-06   0.000008   0.217565   1.0  \n",
       "\n",
       "[39800 rows x 8 columns]"
      ]
     },
     "execution_count": 60,
     "metadata": {},
     "output_type": "execute_result"
    }
   ],
   "source": [
    "df_metrics\n"
   ]
  },
  {
   "cell_type": "markdown",
   "id": "a7868261-3ce0-4e06-af5e-e2eeb12c7cb7",
   "metadata": {},
   "source": [
    "¿Están correlacionadas las medidas?"
   ]
  },
  {
   "cell_type": "markdown",
   "id": "fb53cb82-6aa9-4b69-afc5-4845df2bda3f",
   "metadata": {},
   "source": [
    "De los gráficos podemos decir que varios tienen una distribución de frecuencia similar. Vamos a generar un mapa de calor para corroborarlo."
   ]
  },
  {
   "cell_type": "code",
   "execution_count": 61,
   "id": "8cfc076c-a482-4916-98f2-f0c82a0682ec",
   "metadata": {},
   "outputs": [
    {
     "data": {
      "text/plain": [
       "<AxesSubplot:>"
      ]
     },
     "execution_count": 61,
     "metadata": {},
     "output_type": "execute_result"
    },
    {
     "data": {
      "image/png": "[encoded data removed]",
      "text/plain": [
       "<Figure size 432x288 with 2 Axes>"
      ]
     },
     "metadata": {
      "needs_background": "light"
     },
     "output_type": "display_data"
    }
   ],
   "source": [
    "sns.heatmap(df_metrics.corr())"
   ]
  },
  {
   "cell_type": "markdown",
   "id": "e791d31e-aacf-4d08-a8d4-35582dd9926c",
   "metadata": {},
   "source": [
    "Podemos ver que cuatro de las métricas están fuertemente correlacionadas entre si: betweenness, degree, page rank y strength. Por otro lado eigenvecto centrality tiene una correlación media con los cuatro anteriores."
   ]
  },
  {
   "cell_type": "code",
   "execution_count": 65,
   "id": "5488addd-8e13-428d-abf1-2af0bdc3f656",
   "metadata": {},
   "outputs": [],
   "source": [
    "data = {}\n",
    "for col in  ['btw', 'closeness', 'degree', 'eigenvector_centrality', 'page_rank', 'har_centr']:\n",
    "    top = df_metrics.nlargest(10, columns=[col])[col].index\n",
    "    data[col] = top"
   ]
  },
  {
   "cell_type": "code",
   "execution_count": 66,
   "id": "3f893131-c113-4d27-b0d3-7ef3b2bcb0c7",
   "metadata": {},
   "outputs": [
    {
     "data": {
      "text/html": [
       "<div>\n",
       "<style scoped>\n",
       "    .dataframe tbody tr th:only-of-type {\n",
       "        vertical-align: middle;\n",
       "    }\n",
       "\n",
       "    .dataframe tbody tr th {\n",
       "        vertical-align: top;\n",
       "    }\n",
       "\n",
       "    .dataframe thead th {\n",
       "        text-align: right;\n",
       "    }\n",
       "</style>\n",
       "<table border=\"1\" class=\"dataframe\">\n",
       "  <thead>\n",
       "    <tr style=\"text-align: right;\">\n",
       "      <th></th>\n",
       "      <th>btw</th>\n",
       "      <th>closeness</th>\n",
       "      <th>degree</th>\n",
       "      <th>eigenvector_centrality</th>\n",
       "      <th>page_rank</th>\n",
       "      <th>har_centr</th>\n",
       "    </tr>\n",
       "  </thead>\n",
       "  <tbody>\n",
       "    <tr>\n",
       "      <th>0</th>\n",
       "      <td>13</td>\n",
       "      <td>29638</td>\n",
       "      <td>13</td>\n",
       "      <td>13736</td>\n",
       "      <td>13</td>\n",
       "      <td>13</td>\n",
       "    </tr>\n",
       "    <tr>\n",
       "      <th>1</th>\n",
       "      <td>13736</td>\n",
       "      <td>29656</td>\n",
       "      <td>13736</td>\n",
       "      <td>8398</td>\n",
       "      <td>13736</td>\n",
       "      <td>13736</td>\n",
       "    </tr>\n",
       "    <tr>\n",
       "      <th>2</th>\n",
       "      <td>8398</td>\n",
       "      <td>29657</td>\n",
       "      <td>8398</td>\n",
       "      <td>13</td>\n",
       "      <td>8398</td>\n",
       "      <td>8398</td>\n",
       "    </tr>\n",
       "    <tr>\n",
       "      <th>3</th>\n",
       "      <td>13740</td>\n",
       "      <td>30425</td>\n",
       "      <td>11454</td>\n",
       "      <td>11454</td>\n",
       "      <td>13740</td>\n",
       "      <td>11454</td>\n",
       "    </tr>\n",
       "    <tr>\n",
       "      <th>4</th>\n",
       "      <td>30</td>\n",
       "      <td>30426</td>\n",
       "      <td>13740</td>\n",
       "      <td>13159</td>\n",
       "      <td>11454</td>\n",
       "      <td>4511</td>\n",
       "    </tr>\n",
       "    <tr>\n",
       "      <th>5</th>\n",
       "      <td>11454</td>\n",
       "      <td>30657</td>\n",
       "      <td>13159</td>\n",
       "      <td>13740</td>\n",
       "      <td>13159</td>\n",
       "      <td>30</td>\n",
       "    </tr>\n",
       "    <tr>\n",
       "      <th>6</th>\n",
       "      <td>13159</td>\n",
       "      <td>30954</td>\n",
       "      <td>30</td>\n",
       "      <td>13739</td>\n",
       "      <td>13734</td>\n",
       "      <td>6910</td>\n",
       "    </tr>\n",
       "    <tr>\n",
       "      <th>7</th>\n",
       "      <td>13734</td>\n",
       "      <td>30955</td>\n",
       "      <td>13734</td>\n",
       "      <td>13734</td>\n",
       "      <td>30</td>\n",
       "      <td>7977</td>\n",
       "    </tr>\n",
       "    <tr>\n",
       "      <th>8</th>\n",
       "      <td>13739</td>\n",
       "      <td>31274</td>\n",
       "      <td>13739</td>\n",
       "      <td>30</td>\n",
       "      <td>13739</td>\n",
       "      <td>2775</td>\n",
       "    </tr>\n",
       "    <tr>\n",
       "      <th>9</th>\n",
       "      <td>59</td>\n",
       "      <td>31275</td>\n",
       "      <td>13738</td>\n",
       "      <td>9068</td>\n",
       "      <td>13738</td>\n",
       "      <td>13159</td>\n",
       "    </tr>\n",
       "  </tbody>\n",
       "</table>\n",
       "</div>"
      ],
      "text/plain": [
       "     btw  closeness  degree  eigenvector_centrality  page_rank  har_centr\n",
       "0     13      29638      13                   13736         13         13\n",
       "1  13736      29656   13736                    8398      13736      13736\n",
       "2   8398      29657    8398                      13       8398       8398\n",
       "3  13740      30425   11454                   11454      13740      11454\n",
       "4     30      30426   13740                   13159      11454       4511\n",
       "5  11454      30657   13159                   13740      13159         30\n",
       "6  13159      30954      30                   13739      13734       6910\n",
       "7  13734      30955   13734                   13734         30       7977\n",
       "8  13739      31274   13739                      30      13739       2775\n",
       "9     59      31275   13738                    9068      13738      13159"
      ]
     },
     "execution_count": 66,
     "metadata": {},
     "output_type": "execute_result"
    }
   ],
   "source": [
    " pd.DataFrame(data)"
   ]
  },
  {
   "cell_type": "markdown",
   "id": "1ca1d430-d94e-4ed9-98cc-7e2906d1c8a1",
   "metadata": {},
   "source": [
    "Podemos ver qie hay fuerte coincidencia entre los primeros lugares, especialmente en las medidas que mostraban alta correlación. Los usuarios en las primeras 4-5 columnas no varían mucho entre medidas."
   ]
  },
  {
   "cell_type": "code",
   "execution_count": 67,
   "id": "c10821d2-f154-432d-8764-47b4f601f144",
   "metadata": {},
   "outputs": [
    {
     "data": {
      "text/html": [
       "<div>\n",
       "<style scoped>\n",
       "    .dataframe tbody tr th:only-of-type {\n",
       "        vertical-align: middle;\n",
       "    }\n",
       "\n",
       "    .dataframe tbody tr th {\n",
       "        vertical-align: top;\n",
       "    }\n",
       "\n",
       "    .dataframe thead th {\n",
       "        text-align: right;\n",
       "    }\n",
       "</style>\n",
       "<table border=\"1\" class=\"dataframe\">\n",
       "  <thead>\n",
       "    <tr style=\"text-align: right;\">\n",
       "      <th></th>\n",
       "      <th>name</th>\n",
       "      <th>btw</th>\n",
       "      <th>closeness</th>\n",
       "      <th>degree</th>\n",
       "      <th>eigenvector_centrality</th>\n",
       "      <th>page_rank</th>\n",
       "      <th>har_centr</th>\n",
       "      <th>st</th>\n",
       "    </tr>\n",
       "    <tr>\n",
       "      <th>vertex ID</th>\n",
       "      <th></th>\n",
       "      <th></th>\n",
       "      <th></th>\n",
       "      <th></th>\n",
       "      <th></th>\n",
       "      <th></th>\n",
       "      <th></th>\n",
       "      <th></th>\n",
       "    </tr>\n",
       "  </thead>\n",
       "  <tbody>\n",
       "    <tr>\n",
       "      <th>20</th>\n",
       "      <td>1003913378</td>\n",
       "      <td>6877.175297</td>\n",
       "      <td>0.297894</td>\n",
       "      <td>26</td>\n",
       "      <td>0.010618</td>\n",
       "      <td>0.000081</td>\n",
       "      <td>0.317468</td>\n",
       "      <td>26.0</td>\n",
       "    </tr>\n",
       "    <tr>\n",
       "      <th>15271</th>\n",
       "      <td>3247183779</td>\n",
       "      <td>6444.338199</td>\n",
       "      <td>0.308165</td>\n",
       "      <td>4</td>\n",
       "      <td>0.022697</td>\n",
       "      <td>0.000023</td>\n",
       "      <td>0.329100</td>\n",
       "      <td>4.0</td>\n",
       "    </tr>\n",
       "    <tr>\n",
       "      <th>7996</th>\n",
       "      <td>1566199123</td>\n",
       "      <td>0.000000</td>\n",
       "      <td>0.281730</td>\n",
       "      <td>1</td>\n",
       "      <td>0.007390</td>\n",
       "      <td>0.000008</td>\n",
       "      <td>0.302770</td>\n",
       "      <td>1.0</td>\n",
       "    </tr>\n",
       "    <tr>\n",
       "      <th>13554</th>\n",
       "      <td>403232552</td>\n",
       "      <td>0.000000</td>\n",
       "      <td>0.270762</td>\n",
       "      <td>1</td>\n",
       "      <td>0.009732</td>\n",
       "      <td>0.000009</td>\n",
       "      <td>0.286548</td>\n",
       "      <td>1.0</td>\n",
       "    </tr>\n",
       "    <tr>\n",
       "      <th>24746</th>\n",
       "      <td>1025505747734589440</td>\n",
       "      <td>8.538728</td>\n",
       "      <td>0.242240</td>\n",
       "      <td>2</td>\n",
       "      <td>0.000193</td>\n",
       "      <td>0.000012</td>\n",
       "      <td>0.247844</td>\n",
       "      <td>2.0</td>\n",
       "    </tr>\n",
       "  </tbody>\n",
       "</table>\n",
       "</div>"
      ],
      "text/plain": [
       "                          name          btw  closeness  degree  \\\n",
       "vertex ID                                                        \n",
       "20                  1003913378  6877.175297   0.297894      26   \n",
       "15271               3247183779  6444.338199   0.308165       4   \n",
       "7996                1566199123     0.000000   0.281730       1   \n",
       "13554                403232552     0.000000   0.270762       1   \n",
       "24746      1025505747734589440     8.538728   0.242240       2   \n",
       "\n",
       "           eigenvector_centrality  page_rank  har_centr    st  \n",
       "vertex ID                                                      \n",
       "20                       0.010618   0.000081   0.317468  26.0  \n",
       "15271                    0.022697   0.000023   0.329100   4.0  \n",
       "7996                     0.007390   0.000008   0.302770   1.0  \n",
       "13554                    0.009732   0.000009   0.286548   1.0  \n",
       "24746                    0.000193   0.000012   0.247844   2.0  "
      ]
     },
     "execution_count": 67,
     "metadata": {},
     "output_type": "execute_result"
    }
   ],
   "source": [
    "df_metrics.iloc[[20,15271,7996,13554,24746]]\n"
   ]
  },
  {
   "cell_type": "code",
   "execution_count": 68,
   "id": "6484f690-44ee-4c48-910a-7d59e506b9b2",
   "metadata": {},
   "outputs": [],
   "source": [
    "central_users =df[df['user.id'].isin(['252168075','130979339','73102744','367933714','593189095'])]"
   ]
  },
  {
   "cell_type": "code",
   "execution_count": 69,
   "id": "ffc47e63-f4b0-459b-8e76-dd0f313da4a4",
   "metadata": {},
   "outputs": [
    {
     "data": {
      "text/plain": [
       "Index(['created_at', 'id_str', 'full_text', 'in_reply_to_status_id',\n",
       "       'in_reply_to_user_id', 'user.id', 'user_retweeters', 'sentiment'],\n",
       "      dtype='object')"
      ]
     },
     "execution_count": 69,
     "metadata": {},
     "output_type": "execute_result"
    }
   ],
   "source": [
    "central_users.columns"
   ]
  },
  {
   "cell_type": "code",
   "execution_count": 71,
   "id": "a345720a-2f3f-4a20-980c-8f6a2beca82b",
   "metadata": {},
   "outputs": [
    {
     "name": "stderr",
     "output_type": "stream",
     "text": [
      "C:\\Users\\Magui\\anaconda3\\lib\\site-packages\\pandas\\core\\frame.py:4462: SettingWithCopyWarning: \n",
      "A value is trying to be set on a copy of a slice from a DataFrame\n",
      "\n",
      "See the caveats in the documentation: https://pandas.pydata.org/pandas-docs/stable/user_guide/indexing.html#returning-a-view-versus-a-copy\n",
      "  return super().fillna(\n"
     ]
    }
   ],
   "source": [
    "central_users.fillna(0,inplace=True)"
   ]
  },
  {
   "cell_type": "code",
   "execution_count": 72,
   "id": "1af752d3-b556-4505-afc0-f306764ef3b8",
   "metadata": {},
   "outputs": [
    {
     "data": {
      "text/plain": [
       "user.id    sentiment \n",
       "130979339  0             1061\n",
       "252168075  0             1948\n",
       "           Apoyo            1\n",
       "           Comentario       3\n",
       "           Pregunta         1\n",
       "367933714  0              776\n",
       "           Comentario       6\n",
       "593189095  0              402\n",
       "           Comentario       1\n",
       "73102744   0             2190\n",
       "           Apoyo            2\n",
       "           Comentario       3\n",
       "Name: id_str, dtype: int64"
      ]
     },
     "execution_count": 72,
     "metadata": {},
     "output_type": "execute_result"
    }
   ],
   "source": [
    "central_users.groupby(by=['user.id','sentiment']).id_str.count()"
   ]
  },
  {
   "cell_type": "markdown",
   "id": "a9dc67b8-3dec-4bb5-a719-b96bc1776233",
   "metadata": {},
   "source": [
    "\n",
    "Son usuarios con muchos tweets, de hecho el 73102744 que está en tercer lugar en casi todas las medidas de centralidad es el que más tuits publicó. No se puede decir nada sobre sus sentimientos pues no están todos tageados.\n",
    "\n",
    "La gran mayoría de sus tuits son respuestas a otros usuarios"
   ]
  },
  {
   "cell_type": "code",
   "execution_count": 73,
   "id": "387137ca-17cf-46c4-8a03-4354d6e28139",
   "metadata": {},
   "outputs": [],
   "source": [
    "df1 = df.fillna(0).groupby(by=['user.id']).id_str.count()"
   ]
  },
  {
   "cell_type": "code",
   "execution_count": 74,
   "id": "f268c3eb-97be-4bde-b93b-07c96d2c347e",
   "metadata": {},
   "outputs": [
    {
     "data": {
      "text/plain": [
       "user.id\n",
       "73102744               2195\n",
       "252168075              1953\n",
       "130979339              1061\n",
       "2687724840              893\n",
       "367933714               782\n",
       "1077176953              410\n",
       "593189095               403\n",
       "312708081               290\n",
       "3015178264              289\n",
       "1273799426348331012     254\n",
       "931564592328781824      243\n",
       "956981248299282432      220\n",
       "144929758               205\n",
       "35680704                171\n",
       "4343677427              167\n",
       "Name: id_str, dtype: int64"
      ]
     },
     "execution_count": 74,
     "metadata": {},
     "output_type": "execute_result"
    }
   ],
   "source": [
    "df1.sort_values( ascending=False).head(15)"
   ]
  },
  {
   "cell_type": "code",
   "execution_count": 78,
   "id": "49352c63-f2fb-4357-a828-27bc426a7710",
   "metadata": {},
   "outputs": [
    {
     "data": {
      "text/html": [
       "<div>\n",
       "<style scoped>\n",
       "    .dataframe tbody tr th:only-of-type {\n",
       "        vertical-align: middle;\n",
       "    }\n",
       "\n",
       "    .dataframe tbody tr th {\n",
       "        vertical-align: top;\n",
       "    }\n",
       "\n",
       "    .dataframe thead th {\n",
       "        text-align: right;\n",
       "    }\n",
       "</style>\n",
       "<table border=\"1\" class=\"dataframe\">\n",
       "  <thead>\n",
       "    <tr style=\"text-align: right;\">\n",
       "      <th></th>\n",
       "      <th>created_at</th>\n",
       "      <th>id_str</th>\n",
       "      <th>full_text</th>\n",
       "      <th>in_reply_to_status_id</th>\n",
       "      <th>in_reply_to_user_id</th>\n",
       "      <th>user.id</th>\n",
       "      <th>user_retweeters</th>\n",
       "      <th>sentiment</th>\n",
       "    </tr>\n",
       "  </thead>\n",
       "  <tbody>\n",
       "    <tr>\n",
       "      <th>39</th>\n",
       "      <td>Sun Feb 28 23:51:37 +0000 2021</td>\n",
       "      <td>1366174247425556483</td>\n",
       "      <td>Argentina tiene hoy casi 18 muertos por millón...</td>\n",
       "      <td>NaN</td>\n",
       "      <td>NaN</td>\n",
       "      <td>73102744</td>\n",
       "      <td>[178105343, 2644056245, 4196856351, 215547565,...</td>\n",
       "      <td>NaN</td>\n",
       "    </tr>\n",
       "    <tr>\n",
       "      <th>107</th>\n",
       "      <td>Mon Mar 01 05:09:45 +0000 2021</td>\n",
       "      <td>1366254308426207232</td>\n",
       "      <td>@arroadri Inevitable a menos que se aceleren l...</td>\n",
       "      <td>1366218359730241543</td>\n",
       "      <td>171893542</td>\n",
       "      <td>73102744</td>\n",
       "      <td>[1083825689848135680]</td>\n",
       "      <td>NaN</td>\n",
       "    </tr>\n",
       "    <tr>\n",
       "      <th>111</th>\n",
       "      <td>Mon Mar 01 00:53:09 +0000 2021</td>\n",
       "      <td>1366189731235643394</td>\n",
       "      <td>@jadagui un rato, me cayeron los violentos</td>\n",
       "      <td>1366184037543460865</td>\n",
       "      <td>139058257</td>\n",
       "      <td>73102744</td>\n",
       "      <td>[]</td>\n",
       "      <td>NaN</td>\n",
       "    </tr>\n",
       "    <tr>\n",
       "      <th>114</th>\n",
       "      <td>Mon Mar 01 12:17:42 +0000 2021</td>\n",
       "      <td>1366362007063117827</td>\n",
       "      <td>@PTorricos Precisamente y cuidadosamente dije ...</td>\n",
       "      <td>1366357963099750404</td>\n",
       "      <td>1233442742312865792</td>\n",
       "      <td>73102744</td>\n",
       "      <td>[]</td>\n",
       "      <td>NaN</td>\n",
       "    </tr>\n",
       "    <tr>\n",
       "      <th>116</th>\n",
       "      <td>Mon Mar 01 02:43:39 +0000 2021</td>\n",
       "      <td>1366217542889598977</td>\n",
       "      <td>@Horacio86925173 Puse candado para evitar a lo...</td>\n",
       "      <td>1366185744574930944</td>\n",
       "      <td>1351278834147069953</td>\n",
       "      <td>73102744</td>\n",
       "      <td>[]</td>\n",
       "      <td>NaN</td>\n",
       "    </tr>\n",
       "    <tr>\n",
       "      <th>119</th>\n",
       "      <td>Mon Mar 01 00:05:53 +0000 2021</td>\n",
       "      <td>1366177838932631554</td>\n",
       "      <td>@cacerolapop 🥰</td>\n",
       "      <td>1366176472357101571</td>\n",
       "      <td>4497008602</td>\n",
       "      <td>73102744</td>\n",
       "      <td>[]</td>\n",
       "      <td>NaN</td>\n",
       "    </tr>\n",
       "    <tr>\n",
       "      <th>120</th>\n",
       "      <td>Mon Mar 01 03:32:38 +0000 2021</td>\n",
       "      <td>1366229867675664384</td>\n",
       "      <td>@musa_nancy ❤️</td>\n",
       "      <td>1366229748498718720</td>\n",
       "      <td>1873909063</td>\n",
       "      <td>73102744</td>\n",
       "      <td>[]</td>\n",
       "      <td>NaN</td>\n",
       "    </tr>\n",
       "    <tr>\n",
       "      <th>122</th>\n",
       "      <td>Mon Mar 01 03:49:05 +0000 2021</td>\n",
       "      <td>1366234007118225415</td>\n",
       "      <td>@musa_nancy Abrazo!</td>\n",
       "      <td>1366230372762218501</td>\n",
       "      <td>1873909063</td>\n",
       "      <td>73102744</td>\n",
       "      <td>[]</td>\n",
       "      <td>NaN</td>\n",
       "    </tr>\n",
       "    <tr>\n",
       "      <th>124</th>\n",
       "      <td>Mon Mar 01 00:51:33 +0000 2021</td>\n",
       "      <td>1366189329543032840</td>\n",
       "      <td>@vidal_aleta Se ve que no leiste nada, no te a...</td>\n",
       "      <td>1366186725341593601</td>\n",
       "      <td>984448926395793408</td>\n",
       "      <td>73102744</td>\n",
       "      <td>[]</td>\n",
       "      <td>NaN</td>\n",
       "    </tr>\n",
       "    <tr>\n",
       "      <th>128</th>\n",
       "      <td>Mon Mar 01 00:57:15 +0000 2021</td>\n",
       "      <td>1366190763625873415</td>\n",
       "      <td>@vidal_aleta No leíste el hilo completo y diji...</td>\n",
       "      <td>1366190098119860226</td>\n",
       "      <td>984448926395793408</td>\n",
       "      <td>73102744</td>\n",
       "      <td>[]</td>\n",
       "      <td>NaN</td>\n",
       "    </tr>\n",
       "  </tbody>\n",
       "</table>\n",
       "</div>"
      ],
      "text/plain": [
       "                         created_at               id_str  \\\n",
       "39   Sun Feb 28 23:51:37 +0000 2021  1366174247425556483   \n",
       "107  Mon Mar 01 05:09:45 +0000 2021  1366254308426207232   \n",
       "111  Mon Mar 01 00:53:09 +0000 2021  1366189731235643394   \n",
       "114  Mon Mar 01 12:17:42 +0000 2021  1366362007063117827   \n",
       "116  Mon Mar 01 02:43:39 +0000 2021  1366217542889598977   \n",
       "119  Mon Mar 01 00:05:53 +0000 2021  1366177838932631554   \n",
       "120  Mon Mar 01 03:32:38 +0000 2021  1366229867675664384   \n",
       "122  Mon Mar 01 03:49:05 +0000 2021  1366234007118225415   \n",
       "124  Mon Mar 01 00:51:33 +0000 2021  1366189329543032840   \n",
       "128  Mon Mar 01 00:57:15 +0000 2021  1366190763625873415   \n",
       "\n",
       "                                             full_text in_reply_to_status_id  \\\n",
       "39   Argentina tiene hoy casi 18 muertos por millón...                   NaN   \n",
       "107  @arroadri Inevitable a menos que se aceleren l...   1366218359730241543   \n",
       "111         @jadagui un rato, me cayeron los violentos   1366184037543460865   \n",
       "114  @PTorricos Precisamente y cuidadosamente dije ...   1366357963099750404   \n",
       "116  @Horacio86925173 Puse candado para evitar a lo...   1366185744574930944   \n",
       "119                                     @cacerolapop 🥰   1366176472357101571   \n",
       "120                                     @musa_nancy ❤️   1366229748498718720   \n",
       "122                                @musa_nancy Abrazo!   1366230372762218501   \n",
       "124  @vidal_aleta Se ve que no leiste nada, no te a...   1366186725341593601   \n",
       "128  @vidal_aleta No leíste el hilo completo y diji...   1366190098119860226   \n",
       "\n",
       "     in_reply_to_user_id   user.id  \\\n",
       "39                   NaN  73102744   \n",
       "107            171893542  73102744   \n",
       "111            139058257  73102744   \n",
       "114  1233442742312865792  73102744   \n",
       "116  1351278834147069953  73102744   \n",
       "119           4497008602  73102744   \n",
       "120           1873909063  73102744   \n",
       "122           1873909063  73102744   \n",
       "124   984448926395793408  73102744   \n",
       "128   984448926395793408  73102744   \n",
       "\n",
       "                                       user_retweeters sentiment  \n",
       "39   [178105343, 2644056245, 4196856351, 215547565,...       NaN  \n",
       "107                              [1083825689848135680]       NaN  \n",
       "111                                                 []       NaN  \n",
       "114                                                 []       NaN  \n",
       "116                                                 []       NaN  \n",
       "119                                                 []       NaN  \n",
       "120                                                 []       NaN  \n",
       "122                                                 []       NaN  \n",
       "124                                                 []       NaN  \n",
       "128                                                 []       NaN  "
      ]
     },
     "execution_count": 78,
     "metadata": {},
     "output_type": "execute_result"
    }
   ],
   "source": [
    "df[df['user.id'].isin(['73102744'])].head(10)"
   ]
  },
  {
   "cell_type": "markdown",
   "id": "655298dd-b920-471e-87e1-51748447f5d7",
   "metadata": {},
   "source": [
    "Respecto al contenido de sus tuits podemos ver que en muchos casos son respuestas a otros usuarios, o a si mismos."
   ]
  },
  {
   "cell_type": "markdown",
   "id": "931aa2e3-427e-4ed7-9c2d-675ad682b81d",
   "metadata": {},
   "source": [
    "#### **3. Comunidades**\n",
    "\n",
    "Utilizar el algoritmo de Louvain con el parámetro \"resolución\" igual a 1. Caracterizar las comunidades halladas (cantidad, distribución de tamaños). Utilizar la modularidad y otras dos métricas a elección para evaluar la calidad de la partición encontrada. \n",
    "\n",
    "Variar el parámetro \"resolución\" y observar cómo cambia la distribución de comunidades encontradas. ¿Existe algún valor para el cual se identifiquen dos grandes comunidades?\n",
    "\n",
    "Elegir otro algoritmo de detección de comunidades y comparar los resultados con los obtenidos anteriormente.\n",
    "\n",
    "**Opcional:** Correr el algoritmo de Louvain con distintas semillas aleatorias. Utilizar alguna métrica de comparación externa entre las particiones obtenidas para determinar en qué medida depende el algoritmo de la condición inicial."
   ]
  },
  {
   "cell_type": "code",
   "execution_count": 78,
   "id": "83a02d61-6982-448c-9402-ee8469f521da",
   "metadata": {},
   "outputs": [],
   "source": [
    "from cdlib import NodeClustering, evaluation, algorithms\n"
   ]
  },
  {
   "cell_type": "code",
   "execution_count": 79,
   "id": "10823a34-b836-469e-8b60-16609110769a",
   "metadata": {},
   "outputs": [],
   "source": [
    "resolutions = [0.1, 1, 10]\n",
    "comms_dict = {}\n",
    "for resolution in resolutions:\n",
    "    comms = algorithms.louvain(G, weight='weight', resolution=resolution, randomize=False)\n",
    "    comms_dict[resolution] = comms \n",
    "\n"
   ]
  },
  {
   "cell_type": "markdown",
   "id": "e69f947d-63fa-4e53-adb7-b805bc867a07",
   "metadata": {},
   "source": [
    "*Modularidad* Diferenciar la fracción de bordes intracomunitarios de una partición con el número esperado de tales bordes si se distribuye de acuerdo con un modelo nulo."
   ]
  },
  {
   "cell_type": "code",
   "execution_count": 81,
   "id": "410b92ff-53ab-4c72-9fa3-1f9fcfeb2a47",
   "metadata": {},
   "outputs": [
    {
     "name": "stdout",
     "output_type": "stream",
     "text": [
      "Comunidades encontradas: FitnessResult(min=None, max=None, score=0.4387844089762763, std=None)\n",
      "Comunidades encontradas: FitnessResult(min=None, max=None, score=0.5754314902268667, std=None)\n",
      "Comunidades encontradas: FitnessResult(min=None, max=None, score=0.4994214924606615, std=None)\n"
     ]
    }
   ],
   "source": [
    "print('Comunidades encontradas:', evaluation.newman_girvan_modularity(G, comms_dict[0.1]))\n",
    "print('Comunidades encontradas:', evaluation.newman_girvan_modularity(G, comms_dict[1]))\n",
    "print('Comunidades encontradas:', evaluation.newman_girvan_modularity(G, comms_dict[10]))"
   ]
  },
  {
   "cell_type": "markdown",
   "id": "d3a8d6f4-9d09-4e35-b9f0-28ab7adfad63",
   "metadata": {},
   "source": [
    "Con distintas resoluciones, la medida de modularidad aumenta, pero no linealmente."
   ]
  },
  {
   "cell_type": "markdown",
   "id": "63631503-ad23-470a-b2b2-179174c2a964",
   "metadata": {},
   "source": [
    "*Indice de corte* El ratio de nodos en el borde de la comunidad."
   ]
  },
  {
   "cell_type": "code",
   "execution_count": 82,
   "id": "2c41abcf-6b8f-4941-89db-de9fb0357c4c",
   "metadata": {},
   "outputs": [
    {
     "name": "stdout",
     "output_type": "stream",
     "text": [
      "Comunidades encontradas: FitnessResult(min=0.0, max=0.0003295570465941581, score=4.727112568785974e-05, std=5.506926612206526e-05)\n",
      "Comunidades encontradas: FitnessResult(min=0.0, max=4.08373542420587e-05, score=2.433048540016517e-06, std=7.331538441877589e-06)\n",
      "Comunidades encontradas: FitnessResult(min=0.0, max=2.796795990513268e-06, score=3.387555161513647e-08, std=2.783886233066043e-07)\n"
     ]
    }
   ],
   "source": [
    "print('Comunidades encontradas:', evaluation.cut_ratio(G, comms_dict[0.1]))\n",
    "print('Comunidades encontradas:', evaluation.cut_ratio(G, comms_dict[1]))\n",
    "print('Comunidades encontradas:', evaluation.cut_ratio(G, comms_dict[10]))"
   ]
  },
  {
   "cell_type": "markdown",
   "id": "a3dd0990-eb65-429d-a99a-fc62023039fb",
   "metadata": {},
   "source": [
    "En todos los casos el mínimo de nodos es el mismo, y es máximo cuando resolution es 1."
   ]
  },
  {
   "cell_type": "markdown",
   "id": "78d539cb-f1ba-4197-ba9e-a0893b20e072",
   "metadata": {},
   "source": [
    "*Densidad interna* Densidad de nodos internos"
   ]
  },
  {
   "cell_type": "code",
   "execution_count": 83,
   "id": "c164bfde-6994-46df-ad40-cbcc30e03134",
   "metadata": {},
   "outputs": [
    {
     "name": "stdout",
     "output_type": "stream",
     "text": [
      "Comunidades encontradas: FitnessResult(min=0, max=2.0, score=0.4450929710051591, std=0.48314124201147596)\n",
      "Comunidades encontradas: FitnessResult(min=0, max=3.0, score=0.7081117318610662, std=0.47309710670990746)\n",
      "Comunidades encontradas: FitnessResult(min=0, max=2.0, score=0.7645412293772558, std=0.439916726950157)\n"
     ]
    }
   ],
   "source": [
    "print('Comunidades encontradas:', evaluation.internal_edge_density(G, comms_dict[0.1]))\n",
    "print('Comunidades encontradas:', evaluation.internal_edge_density(G, comms_dict[1]))\n",
    "print('Comunidades encontradas:', evaluation.internal_edge_density(G, comms_dict[10]))"
   ]
  },
  {
   "cell_type": "markdown",
   "id": "ec893a4c-37fc-4867-9c99-6616f45fd525",
   "metadata": {},
   "source": [
    "La densidad es mayor cuanto más grandes son las comunidades. Y la densidad interna indica que las comunidades son mas robustas cuanto mas grandes."
   ]
  },
  {
   "cell_type": "markdown",
   "id": "58daf58b-6b1c-4cab-8e21-8e0b19f75bf4",
   "metadata": {},
   "source": [
    "### Label propagation"
   ]
  },
  {
   "cell_type": "code",
   "execution_count": 87,
   "id": "b7caeb50-dcc1-4230-bb0b-d39f66958010",
   "metadata": {},
   "outputs": [],
   "source": [
    "def get_communidades_cdlib(communidades):\n",
    "\n",
    "    comm = communidades.communities\n",
    "    \n",
    "    values = [] \n",
    "\n",
    "    for value in comm:\n",
    "\n",
    "        values.append([value , len(value) ])\n",
    "        df = pd.DataFrame(values, columns = [ 'miembros' , 'cantidad'])\n",
    "\n",
    "    return df"
   ]
  },
  {
   "cell_type": "code",
   "execution_count": 89,
   "id": "616a6099-665e-4353-8db9-06c906276efe",
   "metadata": {},
   "outputs": [],
   "source": [
    "lp= algorithms.label_propagation(G)"
   ]
  },
  {
   "cell_type": "code",
   "execution_count": 90,
   "id": "0b330ce9-afc3-42c3-914c-40f8ea3d443b",
   "metadata": {},
   "outputs": [
    {
     "data": {
      "text/plain": [
       "1039"
      ]
     },
     "execution_count": 90,
     "metadata": {},
     "output_type": "execute_result"
    }
   ],
   "source": [
    "len(lp.communities)\n"
   ]
  },
  {
   "cell_type": "code",
   "execution_count": 91,
   "id": "97512e30-f04e-4bdd-ab89-6707c87c8435",
   "metadata": {},
   "outputs": [
    {
     "data": {
      "text/html": [
       "<div>\n",
       "<style scoped>\n",
       "    .dataframe tbody tr th:only-of-type {\n",
       "        vertical-align: middle;\n",
       "    }\n",
       "\n",
       "    .dataframe tbody tr th {\n",
       "        vertical-align: top;\n",
       "    }\n",
       "\n",
       "    .dataframe thead th {\n",
       "        text-align: right;\n",
       "    }\n",
       "</style>\n",
       "<table border=\"1\" class=\"dataframe\">\n",
       "  <thead>\n",
       "    <tr style=\"text-align: right;\">\n",
       "      <th></th>\n",
       "      <th>miembros</th>\n",
       "      <th>cantidad</th>\n",
       "    </tr>\n",
       "  </thead>\n",
       "  <tbody>\n",
       "    <tr>\n",
       "      <th>0</th>\n",
       "      <td>[1315481785, 1385843886, 399712998, 533596198,...</td>\n",
       "      <td>14855</td>\n",
       "    </tr>\n",
       "    <tr>\n",
       "      <th>1</th>\n",
       "      <td>[146628940, 4487653995, 809831190, 151021998, ...</td>\n",
       "      <td>11994</td>\n",
       "    </tr>\n",
       "    <tr>\n",
       "      <th>2</th>\n",
       "      <td>[766062433, 267910043, 1001287888888352773, 90...</td>\n",
       "      <td>2727</td>\n",
       "    </tr>\n",
       "    <tr>\n",
       "      <th>3</th>\n",
       "      <td>[2998158939, 2961435730, 42465043, 12574835416...</td>\n",
       "      <td>2715</td>\n",
       "    </tr>\n",
       "    <tr>\n",
       "      <th>4</th>\n",
       "      <td>[1130581525152632832, 48007268, 10317049467256...</td>\n",
       "      <td>1611</td>\n",
       "    </tr>\n",
       "    <tr>\n",
       "      <th>5</th>\n",
       "      <td>[2278382340, 2904979707, 138250133, 189255008,...</td>\n",
       "      <td>1438</td>\n",
       "    </tr>\n",
       "    <tr>\n",
       "      <th>6</th>\n",
       "      <td>[1361789516495925251, 2267671520, 2793240117, ...</td>\n",
       "      <td>308</td>\n",
       "    </tr>\n",
       "    <tr>\n",
       "      <th>7</th>\n",
       "      <td>[2598472293, 1078850790339608576, 134524905217...</td>\n",
       "      <td>86</td>\n",
       "    </tr>\n",
       "    <tr>\n",
       "      <th>8</th>\n",
       "      <td>[246977791, 1332455508486336515, 1349091415066...</td>\n",
       "      <td>61</td>\n",
       "    </tr>\n",
       "    <tr>\n",
       "      <th>9</th>\n",
       "      <td>[149692828, 1156970333213208576, 316164893, 13...</td>\n",
       "      <td>59</td>\n",
       "    </tr>\n",
       "  </tbody>\n",
       "</table>\n",
       "</div>"
      ],
      "text/plain": [
       "                                            miembros  cantidad\n",
       "0  [1315481785, 1385843886, 399712998, 533596198,...     14855\n",
       "1  [146628940, 4487653995, 809831190, 151021998, ...     11994\n",
       "2  [766062433, 267910043, 1001287888888352773, 90...      2727\n",
       "3  [2998158939, 2961435730, 42465043, 12574835416...      2715\n",
       "4  [1130581525152632832, 48007268, 10317049467256...      1611\n",
       "5  [2278382340, 2904979707, 138250133, 189255008,...      1438\n",
       "6  [1361789516495925251, 2267671520, 2793240117, ...       308\n",
       "7  [2598472293, 1078850790339608576, 134524905217...        86\n",
       "8  [246977791, 1332455508486336515, 1349091415066...        61\n",
       "9  [149692828, 1156970333213208576, 316164893, 13...        59"
      ]
     },
     "execution_count": 91,
     "metadata": {},
     "output_type": "execute_result"
    }
   ],
   "source": [
    "df = get_communidades_cdlib(lp)\n",
    "sorted_df = df.sort_values(axis=0, by=['cantidad'] , ascending=False)\n",
    "sorted_df[:10]"
   ]
  },
  {
   "cell_type": "markdown",
   "id": "fe898514-29f9-44f4-9fd4-ca971058b125",
   "metadata": {},
   "source": [
    "Con label propagation se encontraron 1039 comunidades con tamaños muy variables."
   ]
  },
  {
   "cell_type": "code",
   "execution_count": 92,
   "id": "cf76c1a7-167a-4684-b478-a01d212ea34f",
   "metadata": {},
   "outputs": [
    {
     "data": {
      "text/plain": [
       "FitnessResult(min=0, max=2.0, score=0.746590534598297, std=0.40668003429782795)"
      ]
     },
     "execution_count": 92,
     "metadata": {},
     "output_type": "execute_result"
    }
   ],
   "source": [
    "evaluation.internal_edge_density(G,lp )\n"
   ]
  },
  {
   "cell_type": "markdown",
   "id": "a655cb01-ff65-40c2-b607-6928cd631d7f",
   "metadata": {},
   "source": [
    "Según la medida de densidad interna las comunidades encontradas son buenas."
   ]
  },
  {
   "cell_type": "markdown",
   "id": "079e39e1-9b78-4b44-9743-604bf0ca5a3a",
   "metadata": {
    "tags": []
   },
   "source": [
    "## Segunda parte\n",
    "\n",
    "### **4. Extracción de etiquetas**\n",
    "\n",
    "En el archivo [etiquetas.csv](https://drive.google.com/file/d/1LWY3VoIRt0xKwEbbtMXYePOGZvgPsQh-/view?usp=sharing) están las etiquetas para un pequeño subconjunto de nodos. Podemos interpretar el valor de la etiqueta como la pertenencia a una determinada clase, donde los usuarios de una misma clase en general tienden a expresar apoyo entre sí.\n",
    "\n",
    "- Determinar quiénes son los usuarios referentes de cada clase (utilizar alguna medida de centralidad calculada sobre el grafo de retweets).\n",
    "- Utiliando los resultados del práctico anterior, determinar si los usuarios de cada clase forman parte de distintas comunidades.\n",
    "\n",
    "**Opcional:** Reconstruir el archivo \"etiquetas.csv\". Para eso, hacer lo siguiente\n",
    "\n",
    "- Construir un grafo en donde los nodos sean usuarios, y donde los enlaces unan dos nodos si entre ellos hubo más respuestas de apoyo que de oposición.\n",
    "- Extraer las dos componentes más grandes del grafo. Esos serán nuestros nodos etiquetados.\n",
    "\n",
    "### **5. Embedding de nodos**\n",
    "\n",
    "- Generar un embedding del grafo de retweets utilizando el algoritmo `word2vec`.\n",
    "- Reducir a 2 la dimensionalidad del embedding utilizando [PCA](https://scikit-learn.org/stable/modules/generated/sklearn.decomposition.PCA.htmlhttps://scikit-learn.org/stable/modules/generated/sklearn.decomposition.PCA.html) y [t-SNE](https://scikit-learn.org/stable/modules/generated/sklearn.manifold.TSNE.htmlhttps://scikit-learn.org/stable/modules/generated/sklearn.manifold.TSNE.html).\n",
    "- Graficar los embeddings correspondientes a los datos etiquetados. ¿Es posible diferenciar unos de otros?\n",
    "\n",
    "**Opcional:** Graficar además los embeddings de los nodos que forman parte de las comunidades asociadas a cada clase. Determinar si el embedding permite distinguir cada comunidad.\n",
    "\n",
    "### **Opcional: 6. Redes neuronales de grafos**\n",
    "\n",
    "El archivo [word_vectors.csv](https://drive.google.com/file/d/1aoxugyMktKb0NQ8Pf3bdhKvh8BAj7YZz/view?usp=sharing) contiene un embedding de 300 dimensiones para cada tweet, otenido utilizando un modelo preentrenado de [FastText](https://fasttext.cc/). Construir una matriz de features para los nodos tomando, para cada usuario, el promedio de los vectores correspondientes a los tweets que escribió. Utilizando estos features, y tomando como ejemplos etiquetados los usuarios de \"etiquetas.csv\" entrenar una red neuronal de grafos para realizar una clasificación binaria sobre el resto de los nodos. Pueden utilizar como base el siguiente modelo:"
   ]
  },
  {
   "cell_type": "code",
   "execution_count": null,
   "id": "d5333b57-a167-46a6-af83-95d1960921d5",
   "metadata": {},
   "outputs": [],
   "source": [
    "class GCN(torch.nn.Module):\n",
    "    def __init__(self):\n",
    "        super(GCN, self).__init__()\n",
    "        torch.manual_seed(1234)\n",
    "        self.conv1 = GCNConv(dataset.num_features, 4)\n",
    "        self.conv2 = GCNConv(4, 4)\n",
    "        self.conv3 = GCNConv(4, 2)\n",
    "        self.classifier = Linear(2, dataset.num_classes)\n",
    "\n",
    "    def forward(self, x, edge_index):\n",
    "        h = self.conv1(x, edge_index)\n",
    "        h = h.tanh()\n",
    "        h = self.conv2(h, edge_index)\n",
    "        h = h.tanh()\n",
    "        h = self.conv3(h, edge_index)\n",
    "        h = h.tanh()  # Embedding final\n",
    "        \n",
    "        # Aplicamos un clasificador lineal sobre el embedding\n",
    "        out = self.classifier(h)\n",
    "\n",
    "        return out, h"
   ]
  },
  {
   "cell_type": "markdown",
   "id": "319c67f8-f2aa-4b95-8f0a-9a6c8f28b221",
   "metadata": {},
   "source": [
    "**Observación:** para alimentar la red neuronal, es necesario construir un objeto de la clase `Dataset` de PyTorch-Geometric. Una forma de hacer eso es la siguiente"
   ]
  },
  {
   "cell_type": "code",
   "execution_count": null,
   "id": "3bc2f06b-eb86-4970-ba98-618267618521",
   "metadata": {},
   "outputs": [],
   "source": [
    "from torch_geometric.data import InMemoryDataset, Data\n",
    "\n",
    "## Reemplazar por el grafo correspondiente\n",
    "g = nx.Graph()\n",
    "\n",
    "## Etiquetas. Reemplazar por las clases del archivo 'etiquetas.csv'.\n",
    "## Asignar la clase '2' a los ejemplos no etiquetados\n",
    "labels = [1, 0, 2, ..., 1]\n",
    "\n",
    "## True si el ejemplo está etiquetado (clases 0 y 1)\n",
    "train_idx = [True, True, False, ..., True]\n",
    "\n",
    "## Matriz de features (word vectors)\n",
    "features = ...\n",
    "\n",
    "adj = nx.to_scipy_sparse_matrix(g).tocoo()\n",
    "row = torch.from_numpy(adj.row.astype(np.int64)).to(torch.long)\n",
    "col = torch.from_numpy(adj.col.astype(np.int64)).to(torch.long)\n",
    "edge_index = torch.stack([row, col], dim=0)\n",
    "\n",
    "\n",
    "class TwitterDataset(InMemoryDataset):\n",
    "    def __init__(self, transform=None):\n",
    "        super(TwitterDataset, self).__init__('.', transform, None, None)\n",
    "\n",
    "        data = Data(edge_index=edge_index)\n",
    "        \n",
    "        data.num_nodes = g.number_of_nodes()\n",
    "        \n",
    "        # Features \n",
    "        data.x = torch.from_numpy(features).type(torch.float32)\n",
    "        \n",
    "        # Etiquetas\n",
    "        y = torch.from_numpy(labels).type(torch.long)\n",
    "        data.y = y.clone().detach()\n",
    "        \n",
    "        data.num_classes = 2\n",
    "        \n",
    "        n_nodes = g.number_of_nodes()\n",
    "        \n",
    "        # create train and test masks for data\n",
    "        train_mask = torch.zeros(n_nodes, dtype=torch.bool)\n",
    "        train_mask[train_idx] = True\n",
    "        data['train_mask'] = train_mask\n",
    "\n",
    "        self.data, self.slices = self.collate([data])\n",
    "\n",
    "    def _download(self):\n",
    "        return\n",
    "\n",
    "    def _process(self):\n",
    "        return\n",
    "\n",
    "    def __repr__(self):\n",
    "        return '{}()'.format(self.__class__.__name__)"
   ]
  }
 ],
 "metadata": {
  "kernelspec": {
   "display_name": "Python 3",
   "language": "python",
   "name": "python3"
  },
  "language_info": {
   "codemirror_mode": {
    "name": "ipython",
    "version": 3
   },
   "file_extension": ".py",
   "mimetype": "text/x-python",
   "name": "python",
   "nbconvert_exporter": "python",
   "pygments_lexer": "ipython3",
   "version": "3.8.8"
  }
 },
 "nbformat": 4,
 "nbformat_minor": 5
}
